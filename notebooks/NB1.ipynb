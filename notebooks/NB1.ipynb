{
 "cells": [
  {
   "cell_type": "code",
   "execution_count": null,
   "metadata": {},
   "outputs": [],
   "source": [
    "from langchain.document_loaders import YoutubeLoader\n",
    "from langchain.embeddings.openai import OpenAIEmbeddings\n",
    "from dotenv import find_dotenv, load_dotenv\n",
    "from langchain.vectorstores import FAISS"
   ]
  },
  {
   "cell_type": "code",
   "execution_count": null,
   "metadata": {},
   "outputs": [],
   "source": [
    "#Load the environment variables\n",
    "load_dotenv(find_dotenv())\n",
    "embeddings = OpenAIEmbeddings()"
   ]
  },
  {
   "cell_type": "code",
   "execution_count": null,
   "metadata": {},
   "outputs": [],
   "source": [
    "video_url = \"https://www.youtube.com/watch?v=L_Guz73e6fw\"\n",
    "\n",
    "def create_db_from_youtube_video_url(video_url):\n",
    "    #Loading the url to a document\n",
    "    loader = YoutubeLoader.from_youtube_url(video_url)\n",
    "    transcript = loader.load()\n",
    "    \n",
    "    #Reducing the tokens by spliting document into chunks that is not too large to the model\n",
    "    text_splitter = RecursiveCharacterTextSplitter(chunk_size=1000, chunk_overlap = 100)\n",
    "    docs = text_splitter.split_documents(transcript)\n",
    "    \n",
    "    #Converting the documents into vectors for the model to understand\n",
    "    db = FAISS.from_documents(docs, embeddings)\n",
    "    return db\n",
    "    "
   ]
  },
  {
   "cell_type": "code",
   "execution_count": null,
   "metadata": {},
   "outputs": [],
   "source": [
    "def get_response_from_query(db, question, k=4):\n",
    "    \"\"\"\n",
    "    gpt-3.5-turbo can handle up to 4097 tokens. Setting the chunk_size to 1000 and k to 4 maximizes the number of tokens to analyze\n",
    "    k is documents\n",
    "\n",
    "    Args:\n",
    "        db (_type_): from the create_db_from_youtube_video_url function\n",
    "        question (_type_): the question you want to ask about the video\n",
    "        k (int, optional): to maximize the number of tokens. Defaults to 4.\n",
    "    \"\"\"\n",
    "    \n",
    "    \n",
    "    # Helps to find the most similar document based on the question\n",
    "    docs = db.similarity_search(question, k=k)\n",
    "    #Join all the documents into one single string\n",
    "    docs_page_content = \"\".join([id.page_content for d in docs])\n",
    "    \n",
    "    #Create the model\n",
    "    chat = ChatOpenAI(model_name = \"gpt-3.5-turbo\", temperature = 0.6)\n",
    "    \n",
    "    #Defining/Designing the template for the prompt\n",
    "    template = \"\"\" \n",
    "    You are an assistance that helps to answer questions based on a youtube video transcript:{docs}\n",
    "    \n",
    "    Only use factual information from the transcript to answer the question. If you feel that you do not have enough information to answer the question, say \" I don't know\". \n",
    "    \n",
    "    Your answers should be verbose and detailed.\n",
    "    \"\"\"\n",
    "    \n",
    "    #Special message used to instruct the model about its role or the behavior it should emulate.\n",
    "    system_message_prompt = SystemMessagePromptTemplate.from_template(template)\n",
    "    \n",
    "    #Human Question prompt - users inputs to the model.\n",
    "    human_template = \"Answer the following question: {question}\"\n",
    "    human_message_prompt = HumanMessagePromptTemplate.from_template(human_template)\n",
    "    \n",
    "    chat_prompt = ChatPromptTemplate.from_messages(\n",
    "        [system_message_prompt, human_message_prompt]\n",
    "    )\n",
    "    \n",
    "    #Putting it in a chain\n",
    "    chain = LLMChain(llm=chat, prompt=chat_prompt)\n",
    "    \n",
    "    #run the chain\n",
    "    response = chain.run(question = question, docs=docs_page_content)\n",
    "    response = response.replace(\"\\n\", \"\")\n",
    "    \n",
    "    return response, docs"
   ]
  },
  {
   "cell_type": "markdown",
   "metadata": {},
   "source": [
    "We now have the building blocks that we need hence we can start to cll the functions"
   ]
  },
  {
   "cell_type": "code",
   "execution_count": null,
   "metadata": {},
   "outputs": [],
   "source": [
    "video_url = \"https://www.youtube.com/watch?v=L_Guz73e6fw\"\n",
    "db = create_db_from_youtube_video_url(video_url)\n",
    "\n",
    "question = \"What are they saying about AGI?\"\n",
    "response, docs = get_response_from_query(db, question)\n",
    "\n",
    "print(textwrap.fill(response, width=85))"
   ]
  },
  {
   "cell_type": "code",
   "execution_count": null,
   "metadata": {},
   "outputs": [],
   "source": []
  }
 ],
 "metadata": {
  "kernelspec": {
   "display_name": "venv",
   "language": "python",
   "name": "python3"
  },
  "language_info": {
   "codemirror_mode": {
    "name": "ipython",
    "version": 3
   },
   "file_extension": ".py",
   "mimetype": "text/x-python",
   "name": "python",
   "nbconvert_exporter": "python",
   "pygments_lexer": "ipython3",
   "version": "3.10.12"
  }
 },
 "nbformat": 4,
 "nbformat_minor": 2
}
